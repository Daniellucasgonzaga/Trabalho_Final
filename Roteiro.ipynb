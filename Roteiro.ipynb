{
  "nbformat": 4,
  "nbformat_minor": 0,
  "metadata": {
    "colab": {
      "provenance": [],
      "authorship_tag": "ABX9TyM8psbj1YiTywphhF6Bxmf+",
      "include_colab_link": true
    },
    "kernelspec": {
      "name": "python3",
      "display_name": "Python 3"
    },
    "language_info": {
      "name": "python"
    }
  },
  "cells": [
    {
      "cell_type": "markdown",
      "metadata": {
        "id": "view-in-github",
        "colab_type": "text"
      },
      "source": [
        "<a href=\"https://colab.research.google.com/github/Daniellucasgonzaga/Trabalho_Final_BCC19/blob/main/Roteiro.ipynb\" target=\"_parent\"><img src=\"https://colab.research.google.com/assets/colab-badge.svg\" alt=\"Open In Colab\"/></a>"
      ]
    },
    {
      "cell_type": "markdown",
      "source": [
        "ROTEIRO TRABALHO BCC\n",
        "\n",
        "1.\tApresentar a necessidade:\n",
        "\n",
        "o\tPlotagem de gráficos relacionado a banco de dados de análises energéticas;\n",
        "\n",
        "o\tGráficos com dados atuais;\n",
        "\n",
        "o\tGráficos baseados em fontes confiáveis;\n",
        "\n",
        "o\tDisciplina baseada em análise de dados de gráficos; \n",
        "\n",
        "o\tGráficos de consumo, demanda energética ...\n",
        "\n",
        "2.\tApresentar a biblioteca\n",
        "\n",
        "o\tExplicar utilidade para exibição do data frame e plotagem dos gráficos;\n",
        "\n",
        "o\tApresentar gráficos que analisamos em sala de aula;\n",
        "\n",
        "o\tApresentar um gráfico, relacionado a energia, tirado de um banco de dados de alguma empresa de energia; \n",
        "\n",
        "o\tEnfatizar o quão interativa e atualizada as aulas podem ficar;\n",
        "\n",
        "3.\tVantagens de se utilizar essa biblioteca na aula\n",
        "\n",
        "o\tAcesso rápido à análise gráfica dos dados;\n",
        "\n",
        "o Dados podem ser fornecidos sem o recurso gráfico;\n",
        "\n",
        "o Podemos gerar o gráfico no mesmo dia em que a empresa publicou o banco de dados;\n",
        "\n",
        "o\tMaior fidelidade aos fatos, uma vez que você seleciona e analisa a confiabilidade da fonte dos dados.\n"
      ],
      "metadata": {
        "id": "VgrW6VK-Or5t"
      }
    }
  ]
}