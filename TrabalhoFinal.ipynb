{
  "nbformat": 4,
  "nbformat_minor": 0,
  "metadata": {
    "colab": {
      "provenance": [],
      "include_colab_link": true
    },
    "kernelspec": {
      "name": "python3",
      "display_name": "Python 3"
    },
    "language_info": {
      "name": "python"
    }
  },
  "cells": [
    {
      "cell_type": "markdown",
      "metadata": {
        "id": "view-in-github",
        "colab_type": "text"
      },
      "source": [
        "<a href=\"https://colab.research.google.com/github/Daniellucasgonzaga/Trabalho_Final_BCC19/blob/main/TrabalhoFinal.ipynb\" target=\"_parent\"><img src=\"https://colab.research.google.com/assets/colab-badge.svg\" alt=\"Open In Colab\"/></a>"
      ]
    },
    {
      "cell_type": "markdown",
      "source": [
        "# UNIVERSIDADE FEDERAL DO ABC - UFABC\n",
        "# BIBLIOTECA PARA UTILIZAÇÃO NA MATÉRIA DE BCE\n",
        "\n",
        "\n",
        "BASES COMPUTACIONAIS DA CIÊNCIA\n",
        "\n",
        "> Daniel Lucas de oliveira Gonzaga - 11202230634  \n",
        "> Gabriel Souza Rocha - 11202232026"
      ],
      "metadata": {
        "id": "Il8lfbdFLhCj"
      }
    },
    {
      "cell_type": "markdown",
      "source": [
        "# Bases Conceituais de Energia\n",
        "Esse Notebook tem o objetivo de ajudar na análise de dados de fontes energéticas de forma rápida com plotagem de gráficos utilizando a biblioteca Seaborn\n"
      ],
      "metadata": {
        "id": "PHN2JHelTulo"
      }
    },
    {
      "cell_type": "markdown",
      "source": [
        "# testando"
      ],
      "metadata": {
        "id": "1HEGMQdPQLBj"
      }
    },
    {
      "cell_type": "code",
      "source": [
        "import numpy as np\n",
        "import seaborn as sns\n",
        "import pandas as pd\n",
        "import matplotlib.pyplot as plt\n"
      ],
      "metadata": {
        "id": "dMU5uEcJTtoH"
      },
      "execution_count": 17,
      "outputs": []
    },
    {
      "cell_type": "markdown",
      "source": [
        "#  plotar uma tabela com os dados\n"
      ],
      "metadata": {
        "id": "9SPkbAeuP9xd"
      }
    },
    {
      "cell_type": "code",
      "source": [
        "tabela = pd.read_csv('https://raw.githubusercontent.com/Daniellucasgonzaga/Trabalho_Final_BCC19/main/Bases%20de%20dados')\n",
        "tabela\n",
        "\n"
      ],
      "metadata": {
        "id": "qa8E6hbtKLwz",
        "outputId": "b5750ecf-9f81-4115-8f4d-4164c80a1620",
        "colab": {
          "base_uri": "https://localhost:8080/",
          "height": 424
        }
      },
      "execution_count": 29,
      "outputs": [
        {
          "output_type": "execute_result",
          "data": {
            "text/plain": [
              "                                                 DatGeracaoConjuntoDados;AnoReferencia;MesReferencia;NomUF;SigUF;MdaPotenciaInstaladakW\n",
              "2022-12-01;2006;12;ACRE;AC;141760                                                               50                                     \n",
              "2022-12-01;2006;12;ALAGOAS;AL;7626936                                                           50                                     \n",
              "2022-12-01;2006;12;AMAZONAS;AM;2105228                                                          60                                     \n",
              "2022-12-01;2006;12;AMAPA;AP;273950                                                               0                                     \n",
              "2022-12-01;2006;12;BAHIA;BA;8899100                                                             90                                     \n",
              "...                                                                                            ...                                     \n",
              "2022-12-01;2022;9 ;RIO GRANDE DO SUL;RS;9615303                                                 97                                     \n",
              "2022-12-01;2022;9 ;SANTA CATARINA;SC;5059767                                                    22                                     \n",
              "2022-12-01;2022;9 ;SERGIPE;SE;4891118                                                           40                                     \n",
              "2022-12-01;2022;9 ;S�O PAULO;SP;24408431                                                        47                                     \n",
              "2022-12-01;2022;9 ;TOCANTINS;TO;1968612                                                          0                                     \n",
              "\n",
              "[1318 rows x 1 columns]"
            ],
            "text/html": [
              "\n",
              "  <div id=\"df-ad5f3924-21f4-465c-a187-340f58e6a867\">\n",
              "    <div class=\"colab-df-container\">\n",
              "      <div>\n",
              "<style scoped>\n",
              "    .dataframe tbody tr th:only-of-type {\n",
              "        vertical-align: middle;\n",
              "    }\n",
              "\n",
              "    .dataframe tbody tr th {\n",
              "        vertical-align: top;\n",
              "    }\n",
              "\n",
              "    .dataframe thead th {\n",
              "        text-align: right;\n",
              "    }\n",
              "</style>\n",
              "<table border=\"1\" class=\"dataframe\">\n",
              "  <thead>\n",
              "    <tr style=\"text-align: right;\">\n",
              "      <th></th>\n",
              "      <th>DatGeracaoConjuntoDados;AnoReferencia;MesReferencia;NomUF;SigUF;MdaPotenciaInstaladakW</th>\n",
              "    </tr>\n",
              "  </thead>\n",
              "  <tbody>\n",
              "    <tr>\n",
              "      <th>2022-12-01;2006;12;ACRE;AC;141760</th>\n",
              "      <td>50</td>\n",
              "    </tr>\n",
              "    <tr>\n",
              "      <th>2022-12-01;2006;12;ALAGOAS;AL;7626936</th>\n",
              "      <td>50</td>\n",
              "    </tr>\n",
              "    <tr>\n",
              "      <th>2022-12-01;2006;12;AMAZONAS;AM;2105228</th>\n",
              "      <td>60</td>\n",
              "    </tr>\n",
              "    <tr>\n",
              "      <th>2022-12-01;2006;12;AMAPA;AP;273950</th>\n",
              "      <td>0</td>\n",
              "    </tr>\n",
              "    <tr>\n",
              "      <th>2022-12-01;2006;12;BAHIA;BA;8899100</th>\n",
              "      <td>90</td>\n",
              "    </tr>\n",
              "    <tr>\n",
              "      <th>...</th>\n",
              "      <td>...</td>\n",
              "    </tr>\n",
              "    <tr>\n",
              "      <th>2022-12-01;2022;9 ;RIO GRANDE DO SUL;RS;9615303</th>\n",
              "      <td>97</td>\n",
              "    </tr>\n",
              "    <tr>\n",
              "      <th>2022-12-01;2022;9 ;SANTA CATARINA;SC;5059767</th>\n",
              "      <td>22</td>\n",
              "    </tr>\n",
              "    <tr>\n",
              "      <th>2022-12-01;2022;9 ;SERGIPE;SE;4891118</th>\n",
              "      <td>40</td>\n",
              "    </tr>\n",
              "    <tr>\n",
              "      <th>2022-12-01;2022;9 ;S�O PAULO;SP;24408431</th>\n",
              "      <td>47</td>\n",
              "    </tr>\n",
              "    <tr>\n",
              "      <th>2022-12-01;2022;9 ;TOCANTINS;TO;1968612</th>\n",
              "      <td>0</td>\n",
              "    </tr>\n",
              "  </tbody>\n",
              "</table>\n",
              "<p>1318 rows × 1 columns</p>\n",
              "</div>\n",
              "      <button class=\"colab-df-convert\" onclick=\"convertToInteractive('df-ad5f3924-21f4-465c-a187-340f58e6a867')\"\n",
              "              title=\"Convert this dataframe to an interactive table.\"\n",
              "              style=\"display:none;\">\n",
              "        \n",
              "  <svg xmlns=\"http://www.w3.org/2000/svg\" height=\"24px\"viewBox=\"0 0 24 24\"\n",
              "       width=\"24px\">\n",
              "    <path d=\"M0 0h24v24H0V0z\" fill=\"none\"/>\n",
              "    <path d=\"M18.56 5.44l.94 2.06.94-2.06 2.06-.94-2.06-.94-.94-2.06-.94 2.06-2.06.94zm-11 1L8.5 8.5l.94-2.06 2.06-.94-2.06-.94L8.5 2.5l-.94 2.06-2.06.94zm10 10l.94 2.06.94-2.06 2.06-.94-2.06-.94-.94-2.06-.94 2.06-2.06.94z\"/><path d=\"M17.41 7.96l-1.37-1.37c-.4-.4-.92-.59-1.43-.59-.52 0-1.04.2-1.43.59L10.3 9.45l-7.72 7.72c-.78.78-.78 2.05 0 2.83L4 21.41c.39.39.9.59 1.41.59.51 0 1.02-.2 1.41-.59l7.78-7.78 2.81-2.81c.8-.78.8-2.07 0-2.86zM5.41 20L4 18.59l7.72-7.72 1.47 1.35L5.41 20z\"/>\n",
              "  </svg>\n",
              "      </button>\n",
              "      \n",
              "  <style>\n",
              "    .colab-df-container {\n",
              "      display:flex;\n",
              "      flex-wrap:wrap;\n",
              "      gap: 12px;\n",
              "    }\n",
              "\n",
              "    .colab-df-convert {\n",
              "      background-color: #E8F0FE;\n",
              "      border: none;\n",
              "      border-radius: 50%;\n",
              "      cursor: pointer;\n",
              "      display: none;\n",
              "      fill: #1967D2;\n",
              "      height: 32px;\n",
              "      padding: 0 0 0 0;\n",
              "      width: 32px;\n",
              "    }\n",
              "\n",
              "    .colab-df-convert:hover {\n",
              "      background-color: #E2EBFA;\n",
              "      box-shadow: 0px 1px 2px rgba(60, 64, 67, 0.3), 0px 1px 3px 1px rgba(60, 64, 67, 0.15);\n",
              "      fill: #174EA6;\n",
              "    }\n",
              "\n",
              "    [theme=dark] .colab-df-convert {\n",
              "      background-color: #3B4455;\n",
              "      fill: #D2E3FC;\n",
              "    }\n",
              "\n",
              "    [theme=dark] .colab-df-convert:hover {\n",
              "      background-color: #434B5C;\n",
              "      box-shadow: 0px 1px 3px 1px rgba(0, 0, 0, 0.15);\n",
              "      filter: drop-shadow(0px 1px 2px rgba(0, 0, 0, 0.3));\n",
              "      fill: #FFFFFF;\n",
              "    }\n",
              "  </style>\n",
              "\n",
              "      <script>\n",
              "        const buttonEl =\n",
              "          document.querySelector('#df-ad5f3924-21f4-465c-a187-340f58e6a867 button.colab-df-convert');\n",
              "        buttonEl.style.display =\n",
              "          google.colab.kernel.accessAllowed ? 'block' : 'none';\n",
              "\n",
              "        async function convertToInteractive(key) {\n",
              "          const element = document.querySelector('#df-ad5f3924-21f4-465c-a187-340f58e6a867');\n",
              "          const dataTable =\n",
              "            await google.colab.kernel.invokeFunction('convertToInteractive',\n",
              "                                                     [key], {});\n",
              "          if (!dataTable) return;\n",
              "\n",
              "          const docLinkHtml = 'Like what you see? Visit the ' +\n",
              "            '<a target=\"_blank\" href=https://colab.research.google.com/notebooks/data_table.ipynb>data table notebook</a>'\n",
              "            + ' to learn more about interactive tables.';\n",
              "          element.innerHTML = '';\n",
              "          dataTable['output_type'] = 'display_data';\n",
              "          await google.colab.output.renderOutput(dataTable, element);\n",
              "          const docLink = document.createElement('div');\n",
              "          docLink.innerHTML = docLinkHtml;\n",
              "          element.appendChild(docLink);\n",
              "        }\n",
              "      </script>\n",
              "    </div>\n",
              "  </div>\n",
              "  "
            ]
          },
          "metadata": {},
          "execution_count": 29
        }
      ]
    },
    {
      "cell_type": "code",
      "source": [],
      "metadata": {
        "id": "bD5Wq3RLL6w7"
      },
      "execution_count": null,
      "outputs": []
    }
  ]
}