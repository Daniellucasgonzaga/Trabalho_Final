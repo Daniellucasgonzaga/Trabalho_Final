{
  "nbformat": 4,
  "nbformat_minor": 0,
  "metadata": {
    "colab": {
      "provenance": [],
      "authorship_tag": "ABX9TyP7jUaekepiNiBFykspl1ym",
      "include_colab_link": true
    },
    "kernelspec": {
      "name": "python3",
      "display_name": "Python 3"
    },
    "language_info": {
      "name": "python"
    }
  },
  "cells": [
    {
      "cell_type": "markdown",
      "metadata": {
        "id": "view-in-github",
        "colab_type": "text"
      },
      "source": [
        "<a href=\"https://colab.research.google.com/github/Daniellucasgonzaga/Trabalho_Final/blob/main/TrabalhoFinal.ipynb\" target=\"_parent\"><img src=\"https://colab.research.google.com/assets/colab-badge.svg\" alt=\"Open In Colab\"/></a>"
      ]
    },
    {
      "cell_type": "markdown",
      "source": [
        "**Univerdidade Federal do ABC**\n",
        "\n",
        "BASES COMPUTACIONAIS DA CIÊNCIA"
      ],
      "metadata": {
        "id": "Il8lfbdFLhCj"
      }
    },
    {
      "cell_type": "code",
      "execution_count": null,
      "metadata": {
        "id": "VEjlfyi6LSzU"
      },
      "outputs": [],
      "source": []
    }
  ]
}