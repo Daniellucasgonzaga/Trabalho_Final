{
  "nbformat": 4,
  "nbformat_minor": 0,
  "metadata": {
    "colab": {
      "provenance": [],
      "include_colab_link": true
    },
    "kernelspec": {
      "name": "python3",
      "display_name": "Python 3"
    },
    "language_info": {
      "name": "python"
    }
  },
  "cells": [
    {
      "cell_type": "markdown",
      "metadata": {
        "id": "view-in-github",
        "colab_type": "text"
      },
      "source": [
        "<a href=\"https://colab.research.google.com/github/Daniellucasgonzaga/Trabalho_Final_BCC19/blob/main/TrabalhoFinal.ipynb\" target=\"_parent\"><img src=\"https://colab.research.google.com/assets/colab-badge.svg\" alt=\"Open In Colab\"/></a>"
      ]
    },
    {
      "cell_type": "markdown",
      "source": [
        "# UNIVERSIDADE FEDERAL DO ABC - UFABC\n",
        "# BIBLIOTECA PARA UTILIZAÇÃO NA MATÉRIA DE BCE\n",
        "\n",
        "\n",
        "BASES COMPUTACIONAIS DA CIÊNCIA\n",
        "\n",
        "> Daniel Lucas de oliveira Gonzaga - 11202230634  \n",
        "> Gabriel Souza Rocha - 11202232026"
      ],
      "metadata": {
        "id": "Il8lfbdFLhCj"
      }
    },
    {
      "cell_type": "markdown",
      "source": [
        "# Bases Conceituais de Energia\n",
        "Esse Notebook tem o objetivo de ajudar na análise de dados de fontes energéticas de forma rápida com plotagem de gráficos utilizando a biblioteca Seaborn\n"
      ],
      "metadata": {
        "id": "PHN2JHelTulo"
      }
    },
    {
      "cell_type": "code",
      "source": [
        "import seaborn as sns"
      ],
      "metadata": {
        "id": "dMU5uEcJTtoH"
      },
      "execution_count": null,
      "outputs": []
    }
  ]
}